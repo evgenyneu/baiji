{
 "cells": [
  {
   "cell_type": "markdown",
   "metadata": {},
   "source": [
    "# VITS TTS - Fast Text-to-Speech\n",
    "\n",
    "This notebook demonstrates VITS TTS, which is optimized for speed and Apple Silicon GPU acceleration.\n",
    "\n",
    "**Features:**\n",
    "- Fast generation (~10 seconds)\n",
    "- Apple Silicon MPS GPU acceleration\n",
    "- Lightweight model (40M parameters)\n",
    "- Good quality (though less natural than Bark)"
   ]
  },
  {
   "cell_type": "code",
   "execution_count": 1,
   "metadata": {},
   "outputs": [
    {
     "name": "stdout",
     "output_type": "stream",
     "text": [
      "VITS model loaded on mps\n",
      "Model size: ~40M parameters (much smaller than Bark)\n"
     ]
    }
   ],
   "source": [
    "# Load VITS TTS model - Apple Silicon optimized\n",
    "from transformers import VitsModel, VitsTokenizer\n",
    "import torch\n",
    "import time\n",
    "\n",
    "# Load VITS model (lightweight, Apple Silicon friendly)\n",
    "model_name = \"facebook/mms-tts-eng\"  # English VITS model\n",
    "tokenizer = VitsTokenizer.from_pretrained(model_name)\n",
    "model = VitsModel.from_pretrained(model_name)\n",
    "\n",
    "# Move to MPS if available\n",
    "device = \"mps\" if torch.backends.mps.is_available() else \"cpu\"\n",
    "model = model.to(device)\n",
    "\n",
    "print(f\"VITS model loaded on {device}\")\n",
    "print(f\"Model size: ~40M parameters (much smaller than Bark)\")"
   ]
  },
  {
   "cell_type": "code",
   "execution_count": 2,
   "metadata": {},
   "outputs": [
    {
     "name": "stdout",
     "output_type": "stream",
     "text": [
      "Generating audio with VITS...\n",
      "Audio generated in 10.80 seconds on mps\n",
      "Audio shape: torch.Size([1, 90112])\n",
      "Model's sampling rate: 16000\n"
     ]
    }
   ],
   "source": [
    "# Generate speech with VITS\n",
    "text = \"Hello, this is VITS TTS. I generate speech quickly using Apple Silicon GPU acceleration.\"\n",
    "\n",
    "# Tokenize input\n",
    "inputs = tokenizer(text, return_tensors=\"pt\")\n",
    "\n",
    "# Move inputs to device\n",
    "if device == \"mps\":\n",
    "    inputs = {k: v.to(device) for k, v in inputs.items()}\n",
    "\n",
    "print(\"Generating audio with VITS...\")\n",
    "\n",
    "start_time = time.time()\n",
    "with torch.no_grad():\n",
    "    # VITS uses forward() not generate()\n",
    "    outputs = model(**inputs)\n",
    "    audio_array = outputs.waveform\n",
    "end_time = time.time()\n",
    "\n",
    "print(f\"Audio generated in {end_time - start_time:.2f} seconds on {device}\")\n",
    "print(f\"Audio shape: {audio_array.shape}\")\n",
    "\n",
    "# Check the model's actual sample rate\n",
    "model_sample_rate = model.config.sampling_rate\n",
    "print(f\"Model's sampling rate: {model_sample_rate}\")\n",
    "\n",
    "# Convert to numpy for saving\n",
    "vits_audio = audio_array.cpu().numpy().squeeze()\n",
    "\n",
    "# Store speech data\n",
    "vits_speech = {\"audio\": vits_audio, \"sampling_rate\": model_sample_rate}"
   ]
  },
  {
   "cell_type": "code",
   "execution_count": 3,
   "metadata": {},
   "outputs": [
    {
     "name": "stdout",
     "output_type": "stream",
     "text": [
      "VITS audio saved as output/vits_output.mp3\n",
      "Duration: 5.63 seconds\n",
      "Generation time: 10.80 seconds\n",
      "\n",
      "🚀 VITS TTS: Fast generation with Apple Silicon GPU!\n"
     ]
    }
   ],
   "source": [
    "# Save VITS audio as MP3\n",
    "import soundfile as sf\n",
    "from pydub import AudioSegment\n",
    "import numpy as np\n",
    "import os\n",
    "\n",
    "# Create output directory\n",
    "os.makedirs(\"output\", exist_ok=True)\n",
    "\n",
    "# Save as WAV first\n",
    "wav_file = \"output/vits_output.wav\"\n",
    "mp3_file = \"output/vits_output.mp3\"\n",
    "\n",
    "# Normalize audio to prevent clipping\n",
    "audio_normalized = vits_speech[\"audio\"] / np.max(np.abs(vits_speech[\"audio\"]))\n",
    "\n",
    "# Save as WAV\n",
    "sf.write(wav_file, audio_normalized, vits_speech[\"sampling_rate\"])\n",
    "\n",
    "# Convert to MP3\n",
    "audio_segment = AudioSegment.from_wav(wav_file)\n",
    "audio_segment.export(mp3_file, format=\"mp3\")\n",
    "\n",
    "print(f\"VITS audio saved as {mp3_file}\")\n",
    "print(f\"Duration: {len(audio_segment)/1000:.2f} seconds\")\n",
    "print(f\"Generation time: {end_time - start_time:.2f} seconds\")\n",
    "print(\"\\n🚀 VITS TTS: Fast generation with Apple Silicon GPU!\")"
   ]
  },
  {
   "cell_type": "code",
   "execution_count": null,
   "metadata": {},
   "outputs": [],
   "source": []
  }
 ],
 "metadata": {
  "kernelspec": {
   "display_name": ".venv",
   "language": "python",
   "name": "python3"
  },
  "language_info": {
   "codemirror_mode": {
    "name": "ipython",
    "version": 3
   },
   "file_extension": ".py",
   "mimetype": "text/x-python",
   "name": "python",
   "nbconvert_exporter": "python",
   "pygments_lexer": "ipython3",
   "version": "3.13.1"
  }
 },
 "nbformat": 4,
 "nbformat_minor": 4
}
