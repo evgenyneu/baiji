{
 "cells": [
  {
   "cell_type": "code",
   "execution_count": 20,
   "metadata": {},
   "outputs": [
    {
     "name": "stdout",
     "output_type": "stream",
     "text": [
      "MPS available: True\n",
      "Loading Bark TTS on Apple Silicon GPU...\n"
     ]
    }
   ],
   "source": [
    "# Load Bark TTS model on Apple Silicon GPU\n",
    "from transformers import pipeline\n",
    "import torch\n",
    "import os\n",
    "\n",
    "# Enable MPS fallback for compatibility\n",
    "os.environ['PYTORCH_ENABLE_MPS_FALLBACK'] = '1'\n",
    "\n",
    "print(f\"MPS available: {torch.backends.mps.is_available()}\")\n",
    "print(\"Loading Bark TTS on Apple Silicon GPU...\")"
   ]
  },
  {
   "cell_type": "code",
   "execution_count": 21,
   "metadata": {},
   "outputs": [
    {
     "name": "stdout",
     "output_type": "stream",
     "text": [
      "Bark model loaded (will use MPS for forward pass, CPU for generation logic)\n"
     ]
    }
   ],
   "source": [
    "# Load Bark with MPS workaround - use CPU for generation\n",
    "from transformers import BarkModel, BarkProcessor\n",
    "import torch\n",
    "\n",
    "processor = BarkProcessor.from_pretrained(\"suno/bark-small\")\n",
    "\n",
    "# Load model on CPU first to avoid MPS dtype issues during generation\n",
    "model = BarkModel.from_pretrained(\"suno/bark-small\")\n",
    "print(\"Bark model loaded (will use MPS for forward pass, CPU for generation logic)\")"
   ]
  },
  {
   "cell_type": "code",
   "execution_count": 22,
   "metadata": {},
   "outputs": [
    {
     "name": "stderr",
     "output_type": "stream",
     "text": [
      "The attention mask and the pad token id were not set. As a consequence, you may observe unexpected behavior. Please pass your input's `attention_mask` to obtain reliable results.\n",
      "Setting `pad_token_id` to `eos_token_id`:10000 for open-end generation.\n"
     ]
    },
    {
     "name": "stdout",
     "output_type": "stream",
     "text": [
      "Generating audio on CPU (MPS has known issues with Bark)...\n",
      "Audio generated in 46.40 seconds on CPU\n",
      "Audio shape: torch.Size([1, 181120])\n"
     ]
    }
   ],
   "source": [
    "# Generate speech on CPU (MPS has dtype compatibility issues with Bark)\n",
    "import time\n",
    "\n",
    "text = \"Hello, this is Bark TTS. Due to MPS dtype issues, we're using CPU for now.\"\n",
    "\n",
    "# Process input\n",
    "inputs = processor(text, return_tensors=\"pt\")\n",
    "\n",
    "print(\"Generating audio on CPU (MPS has known issues with Bark)...\")\n",
    "\n",
    "start_time = time.time()\n",
    "with torch.no_grad():\n",
    "    audio_array = model.generate(**inputs)\n",
    "end_time = time.time()\n",
    "\n",
    "print(f\"Audio generated in {end_time - start_time:.2f} seconds on CPU\")\n",
    "print(f\"Audio shape: {audio_array.shape}\")\n",
    "\n",
    "# Convert to numpy for saving\n",
    "audio_np = audio_array.cpu().numpy().squeeze()\n",
    "\n",
    "# Store for next cell\n",
    "speech = {\"audio\": audio_np, \"sampling_rate\": 24000}"
   ]
  },
  {
   "cell_type": "code",
   "metadata": {},
   "outputs": [],
   "source": "# Save audio as MP3 in output directory\nimport soundfile as sf\nfrom pydub import AudioSegment\nimport numpy as np\nimport os\n\n# Create output directory if it doesn't exist\nos.makedirs(\"output\", exist_ok=True)\n\n# Save as WAV first (soundfile doesn't support MP3 directly)\nwav_file = \"output/bark_output.wav\"\nmp3_file = \"output/bark_output.mp3\"\n\n# Normalize audio to prevent clipping\naudio_normalized = speech[\"audio\"] / np.max(np.abs(speech[\"audio\"]))\n\n# Save as WAV\nsf.write(wav_file, audio_normalized, speech[\"sampling_rate\"])\n\n# Convert WAV to MP3 using pydub\naudio_segment = AudioSegment.from_wav(wav_file)\naudio_segment.export(mp3_file, format=\"mp3\")\n\nprint(f\"Audio saved as {mp3_file}\")\nprint(f\"Duration: {len(audio_segment)/1000:.2f} seconds\")"
  },
  {
   "cell_type": "code",
   "execution_count": null,
   "metadata": {},
   "outputs": [],
   "source": []
  }
 ],
 "metadata": {
  "kernelspec": {
   "display_name": ".venv",
   "language": "python",
   "name": "python3"
  },
  "language_info": {
   "codemirror_mode": {
    "name": "ipython",
    "version": 3
   },
   "file_extension": ".py",
   "mimetype": "text/x-python",
   "name": "python",
   "nbconvert_exporter": "python",
   "pygments_lexer": "ipython3",
   "version": "3.13.1"
  }
 },
 "nbformat": 4,
 "nbformat_minor": 4
}