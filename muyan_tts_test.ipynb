{
 "cells": [
  {
   "cell_type": "code",
   "execution_count": 4,
   "metadata": {},
   "outputs": [
    {
     "name": "stderr",
     "output_type": "stream",
     "text": [
      "Device set to use cpu\n",
      "The attention mask and the pad token id were not set. As a consequence, you may observe unexpected behavior. Please pass your input's `attention_mask` to obtain reliable results.\n",
      "Setting `pad_token_id` to `eos_token_id`:10000 for open-end generation.\n"
     ]
    },
    {
     "name": "stdout",
     "output_type": "stream",
     "text": [
      "Bark TTS model loaded successfully!\n",
      "Generated audio with sample rate: 24000\n",
      "Audio shape: (1, 132480)\n"
     ]
    }
   ],
   "source": [
    "# Load Bark TTS model using HuggingFace transformers\n",
    "from transformers import pipeline\n",
    "import torch\n",
    "\n",
    "try:\n",
    "    # Use Bark for text-to-speech\n",
    "    pipe = pipeline(\"text-to-speech\", model=\"suno/bark-small\", torch_dtype=torch.float16, device=\"cpu\")\n",
    "    print(\"Bark TTS model loaded successfully!\")\n",
    "\n",
    "    # Test with sample text\n",
    "    text = \"Hello, this is a test of the Bark text-to-speech model.\"\n",
    "    speech = pipe(text)\n",
    "\n",
    "    print(f\"Generated audio with sample rate: {speech['sampling_rate']}\")\n",
    "    print(f\"Audio shape: {speech['audio'].shape}\")\n",
    "\n",
    "except Exception as e:\n",
    "    print(f\"Error loading Bark model: {e}\")\n",
    "    print(\"Installing required dependencies might be needed: pip install transformers torch torchaudio\")"
   ]
  },
  {
   "cell_type": "code",
   "execution_count": null,
   "metadata": {},
   "outputs": [],
   "source": []
  }
 ],
 "metadata": {
  "kernelspec": {
   "display_name": ".venv",
   "language": "python",
   "name": "python3"
  },
  "language_info": {
   "codemirror_mode": {
    "name": "ipython",
    "version": 3
   },
   "file_extension": ".py",
   "mimetype": "text/x-python",
   "name": "python",
   "nbconvert_exporter": "python",
   "pygments_lexer": "ipython3",
   "version": "3.13.1"
  }
 },
 "nbformat": 4,
 "nbformat_minor": 4
}
