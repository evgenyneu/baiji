{
 "cells": [
  {
   "cell_type": "code",
   "execution_count": null,
   "metadata": {},
   "outputs": [
    {
     "name": "stdout",
     "output_type": "stream",
     "text": [
      "PyTorch version: 2.7.0\n",
      "MPS available: True\n",
      "MPS built: True\n",
      "Using MPS (Apple Silicon GPU) with float32\n"
     ]
    },
    {
     "name": "stderr",
     "output_type": "stream",
     "text": [
      "Device set to use mps\n",
      "The attention mask and the pad token id were not set. As a consequence, you may observe unexpected behavior. Please pass your input's `attention_mask` to obtain reliable results.\n",
      "Setting `pad_token_id` to `eos_token_id`:10000 for open-end generation.\n"
     ]
    },
    {
     "name": "stdout",
     "output_type": "stream",
     "text": [
      "Bark TTS model loaded successfully!\n",
      "Error loading Bark model: Expected elements.dtype() == test_elements.dtype() to be true, but got false.  (Could this error message be improved?  If so, please report an enhancement request to PyTorch.)\n",
      "Trying with CPU fallback...\n"
     ]
    },
    {
     "name": "stderr",
     "output_type": "stream",
     "text": [
      "Device set to use cpu\n"
     ]
    },
    {
     "name": "stdout",
     "output_type": "stream",
     "text": [
      "Fallback to CPU successful\n"
     ]
    }
   ],
   "source": [
    "# Load Bark TTS model using HuggingFace transformers with MPS acceleration\n",
    "from transformers import pipeline\n",
    "import torch\n",
    "\n",
    "# Check available devices\n",
    "print(f\"PyTorch version: {torch.__version__}\")\n",
    "print(f\"MPS available: {torch.backends.mps.is_available()}\")\n",
    "print(f\"MPS built: {torch.backends.mps.is_built()}\")\n",
    "\n",
    "# Use MPS (Apple Silicon GPU) if available, otherwise CPU\n",
    "if torch.backends.mps.is_available():\n",
    "    device = \"mps\"\n",
    "    torch_dtype = torch.float32  # Use float32 for MPS compatibility\n",
    "    print(\"Using MPS (Apple Silicon GPU) with float32\")\n",
    "else:\n",
    "    device = \"cpu\"\n",
    "    torch_dtype = torch.float16\n",
    "    print(\"Using CPU with float16\")\n",
    "\n",
    "try:\n",
    "    # Use Bark for text-to-speech with GPU acceleration\n",
    "    pipe = pipeline(\n",
    "        \"text-to-speech\",\n",
    "        model=\"suno/bark-small\",\n",
    "        torch_dtype=torch_dtype,\n",
    "        device=device\n",
    "    )\n",
    "    print(\"Bark TTS model loaded successfully!\")\n",
    "\n",
    "    # Test with sample text\n",
    "    text = \"Hello, this is a test of the Bark text-to-speech model running on Apple Silicon GPU.\"\n",
    "\n",
    "    import time\n",
    "    start_time = time.time()\n",
    "    speech = pipe(text)\n",
    "    end_time = time.time()\n",
    "\n",
    "    print(f\"Generated audio with sample rate: {speech['sampling_rate']}\")\n",
    "    print(f\"Audio shape: {speech['audio'].shape}\")\n",
    "    print(f\"Generation time: {end_time - start_time:.2f} seconds\")\n",
    "\n",
    "except Exception as e:\n",
    "    print(f\"Error loading Bark model: {e}\")\n",
    "    print(\"Trying with CPU fallback...\")\n",
    "    try:\n",
    "        pipe = pipeline(\"text-to-speech\", model=\"suno/bark-small\", device=\"cpu\")\n",
    "        print(\"Fallback to CPU successful\")\n",
    "    except Exception as e2:\n",
    "        print(f\"CPU fallback also failed: {e2}\")"
   ]
  },
  {
   "cell_type": "code",
   "execution_count": null,
   "metadata": {},
   "outputs": [],
   "source": []
  }
 ],
 "metadata": {
  "kernelspec": {
   "display_name": ".venv",
   "language": "python",
   "name": "python3"
  },
  "language_info": {
   "codemirror_mode": {
    "name": "ipython",
    "version": 3
   },
   "file_extension": ".py",
   "mimetype": "text/x-python",
   "name": "python",
   "nbconvert_exporter": "python",
   "pygments_lexer": "ipython3",
   "version": "3.13.1"
  }
 },
 "nbformat": 4,
 "nbformat_minor": 4
}
