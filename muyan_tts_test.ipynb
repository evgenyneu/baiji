{
 "cells": [
  {
   "cell_type": "markdown",
   "metadata": {},
   "source": [
    "# Muyan-TTS Text-to-Speech Test\n",
    "\n",
    "This notebook demonstrates how to use Muyan-TTS to convert text to speech."
   ]
  },
  {
   "cell_type": "code",
   "execution_count": null,
   "metadata": {},
   "outputs": [],
   "source": [
    "import torch\n",
    "import soundfile as sf\n",
    "from transformers import AutoTokenizer, AutoModel\n",
    "import numpy as np"
   ]
  },
  {
   "cell_type": "code",
   "execution_count": null,
   "metadata": {},
   "outputs": [],
   "source": [
    "# Load Muyan-TTS model and tokenizer\n",
    "model_name = \"Muyan/MuyanTTS\"  # Replace with actual model name if different\n",
    "\n",
    "try:\n",
    "    tokenizer = AutoTokenizer.from_pretrained(model_name)\n",
    "    model = AutoModel.from_pretrained(model_name)\n",
    "    print(\"Model loaded successfully!\")\nexcept Exception as e:\n",
    "    print(f\"Error loading model: {e}\")\n",
    "    print(\"Please verify the correct model name for Muyan-TTS\")"
   ]
  },
  {
   "cell_type": "code",
   "execution_count": null,
   "metadata": {},
   "outputs": [],
   "source": [
    "# Text to convert to speech\n",
    "text = \"Hello, this is a test of the Muyan text-to-speech system. How does it sound?\"\n",
    "\n",
    "print(f\"Text to synthesize: {text}\")"
   ]
  },
  {
   "cell_type": "code",
   "execution_count": null,
   "metadata": {},
   "outputs": [],
   "source": [
    "# Generate speech from text\n",
    "def text_to_speech(text, model, tokenizer):\n",
    "    \"\"\"\n",
    "    Convert text to speech using Muyan-TTS model\n",
    "    \"\"\"\n",
    "    # Tokenize input text\n",
    "    inputs = tokenizer(text, return_tensors=\"pt\")\n",
    "    \n",
    "    # Generate audio\n",
    "    with torch.no_grad():\n",
    "        # Note: This is a generic approach - actual implementation may vary\n",
    "        # depending on the specific Muyan-TTS model architecture\n",
    "        outputs = model(**inputs)\n",
    "        \n",
    "        # Extract audio data (this may need adjustment based on model output format)\n",
    "        if hasattr(outputs, 'audio'):\n",
    "            audio = outputs.audio\n",
    "        elif hasattr(outputs, 'last_hidden_state'):\n",
    "            audio = outputs.last_hidden_state\n",
    "        else:\n",
    "            audio = outputs[0]  # First output tensor\n",
    "    \n",
    "    return audio\n",
    "\n",
    "# Generate speech\n",
    "try:\n",
    "    audio_output = text_to_speech(text, model, tokenizer)\n",
    "    print(f\"Audio generated! Shape: {audio_output.shape}\")\n",
    "except Exception as e:\n",
    "    print(f\"Error generating speech: {e}\")"
   ]
  },
  {
   "cell_type": "code",
   "execution_count": null,
   "metadata": {},
   "outputs": [],
   "source": [
    "# Save audio to file\n",
    "output_file = \"muyan_tts_output.wav\"\n",
    "sample_rate = 22050  # Common sample rate for TTS models\n",
    "\n",
    "try:\n",
    "    # Convert to numpy array and ensure correct format\n",
    "    audio_np = audio_output.squeeze().cpu().numpy()\n",
    "    \n",
    "    # Normalize audio if needed\n",
    "    if audio_np.max() > 1.0 or audio_np.min() < -1.0:\n",
    "        audio_np = audio_np / np.max(np.abs(audio_np))\n",
    "    \n",
    "    # Save as WAV file\n",
    "    sf.write(output_file, audio_np, sample_rate)\n",
    "    print(f\"Audio saved to: {output_file}\")\n",
    "    \n",
    "except Exception as e:\n",
    "    print(f\"Error saving audio: {e}\")\n",
    "    print(\"Audio output format may need adjustment for this specific model\")"
   ]
  },
  {
   "cell_type": "code",
   "execution_count": null,
   "metadata": {},
   "outputs": [],
   "source": [
    "# Optional: Play audio in notebook (requires IPython.display)\n",
    "try:\n",
    "    from IPython.display import Audio, display\n",
    "    \n",
    "    # Display audio player\n",
    "    audio_widget = Audio(filename=output_file)\n",
    "    display(audio_widget)\n",
    "    \nexcept ImportError:\n",
    "    print(\"IPython not available for audio playback\")\nexcept Exception as e:\n",
    "    print(f\"Could not play audio: {e}\")"
   ]
  },
  {
   "cell_type": "markdown",
   "metadata": {},
   "source": [
    "## Notes\n",
    "\n",
    "- This notebook provides a basic framework for using Muyan-TTS\n",
    "- The actual model loading and inference code may need adjustment based on the specific Muyan-TTS implementation\n",
    "- Check the model documentation for exact parameter names and output formats\n",
    "- Adjust sample rate and audio processing as needed for your specific use case"
   ]
  }
 ],
 "metadata": {
  "kernelspec": {
   "display_name": "Python 3",
   "language": "python",
   "name": "python3"
  },
  "language_info": {
   "codemirror_mode": {
    "name": "ipython",
    "version": 3
   },
   "file_extension": ".py",
   "mimetype": "text/x-python",
   "name": "python",
   "nbconvert_exporter": "python",
   "pygments_lexer": "ipython3",
   "version": "3.8.0"
  }
 },
 "nbformat": 4,
 "nbformat_minor": 4
}